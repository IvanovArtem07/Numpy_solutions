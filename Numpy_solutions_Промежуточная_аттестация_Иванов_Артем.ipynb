{
  "nbformat": 4,
  "nbformat_minor": 0,
  "metadata": {
    "colab": {
      "provenance": [],
      "authorship_tag": "ABX9TyNjiuTHhe0zRFPoke3RJ6HM",
      "include_colab_link": true
    },
    "kernelspec": {
      "name": "python3",
      "display_name": "Python 3"
    },
    "language_info": {
      "name": "python"
    }
  },
  "cells": [
    {
      "cell_type": "markdown",
      "metadata": {
        "id": "view-in-github",
        "colab_type": "text"
      },
      "source": [
        "<a href=\"https://colab.research.google.com/github/IvanovArtem07/Numpy_solutions/blob/main/Numpy_solutions_%D0%9F%D1%80%D0%BE%D0%BC%D0%B5%D0%B6%D1%83%D1%82%D0%BE%D1%87%D0%BD%D0%B0%D1%8F_%D0%B0%D1%82%D1%82%D0%B5%D1%81%D1%82%D0%B0%D1%86%D0%B8%D1%8F_%D0%98%D0%B2%D0%B0%D0%BD%D0%BE%D0%B2_%D0%90%D1%80%D1%82%D0%B5%D0%BC.ipynb\" target=\"_parent\"><img src=\"https://colab.research.google.com/assets/colab-badge.svg\" alt=\"Open In Colab\"/></a>"
      ]
    },
    {
      "cell_type": "markdown",
      "source": [
        "a) Импортировать библиотеку NumPy"
      ],
      "metadata": {
        "id": "Otht1i1svSPI"
      }
    },
    {
      "cell_type": "code",
      "execution_count": 13,
      "metadata": {
        "id": "q5SINKQSvB7G"
      },
      "outputs": [],
      "source": [
        "import numpy as np\n"
      ]
    },
    {
      "cell_type": "markdown",
      "source": [
        "b) Создать массив из 10 нулей"
      ],
      "metadata": {
        "id": "orfiGJ4Cv5Ku"
      }
    },
    {
      "cell_type": "code",
      "source": [
        "b=np.zeros(10)\n",
        "print(b)"
      ],
      "metadata": {
        "colab": {
          "base_uri": "https://localhost:8080/"
        },
        "id": "2Z30b1kMv4wK",
        "outputId": "201e7cf7-9358-4dbe-b04a-81047fc66696"
      },
      "execution_count": 18,
      "outputs": [
        {
          "output_type": "stream",
          "name": "stdout",
          "text": [
            "[0. 0. 0. 0. 0. 0. 0. 0. 0. 0.]\n"
          ]
        }
      ]
    },
    {
      "cell_type": "markdown",
      "source": [
        "c) Создать массив из 10 едениц"
      ],
      "metadata": {
        "id": "XOAMfas5wov-"
      }
    },
    {
      "cell_type": "code",
      "source": [
        "c=np.ones(10)\n",
        "print(c)"
      ],
      "metadata": {
        "colab": {
          "base_uri": "https://localhost:8080/"
        },
        "id": "RSSO81tIwvZv",
        "outputId": "288f1697-700f-4e6c-ac12-6f426f407249"
      },
      "execution_count": 19,
      "outputs": [
        {
          "output_type": "stream",
          "name": "stdout",
          "text": [
            "[1. 1. 1. 1. 1. 1. 1. 1. 1. 1.]\n"
          ]
        }
      ]
    },
    {
      "cell_type": "markdown",
      "source": [
        "d) Создать массив из 10 пятерок"
      ],
      "metadata": {
        "id": "LCL3gWm2xJLP"
      }
    },
    {
      "cell_type": "code",
      "source": [
        "d=np.zeros(10)\n",
        "d[:]=5\n",
        "print(d)"
      ],
      "metadata": {
        "colab": {
          "base_uri": "https://localhost:8080/"
        },
        "id": "orECLZGCxQpk",
        "outputId": "6727f910-f515-4e14-f69a-19506cf64c9f"
      },
      "execution_count": 20,
      "outputs": [
        {
          "output_type": "stream",
          "name": "stdout",
          "text": [
            "[5. 5. 5. 5. 5. 5. 5. 5. 5. 5.]\n"
          ]
        }
      ]
    },
    {
      "cell_type": "markdown",
      "source": [
        "e) Создать массив из целых чисел от 10 до 50"
      ],
      "metadata": {
        "id": "95nP_EBgisty"
      }
    },
    {
      "cell_type": "code",
      "source": [
        "e=np.arange(10, 51)\n",
        "print(e)"
      ],
      "metadata": {
        "colab": {
          "base_uri": "https://localhost:8080/"
        },
        "id": "qX4lkT0Fi4Mh",
        "outputId": "c9203b85-ac16-47ce-c67c-230e76c385c8"
      },
      "execution_count": 21,
      "outputs": [
        {
          "output_type": "stream",
          "name": "stdout",
          "text": [
            "[10 11 12 13 14 15 16 17 18 19 20 21 22 23 24 25 26 27 28 29 30 31 32 33\n",
            " 34 35 36 37 38 39 40 41 42 43 44 45 46 47 48 49 50]\n"
          ]
        }
      ]
    },
    {
      "cell_type": "markdown",
      "source": [
        "f) Создать массив из четных чисел от 10 до 50"
      ],
      "metadata": {
        "id": "81wNbbCtjkff"
      }
    },
    {
      "cell_type": "code",
      "source": [
        "f=np.arange(10, 51, 2)\n",
        "print(f)"
      ],
      "metadata": {
        "colab": {
          "base_uri": "https://localhost:8080/"
        },
        "id": "gTLKu8H9j2qP",
        "outputId": "0be7a913-1fec-4fd1-f476-e20f9beacec8"
      },
      "execution_count": 22,
      "outputs": [
        {
          "output_type": "stream",
          "name": "stdout",
          "text": [
            "[10 12 14 16 18 20 22 24 26 28 30 32 34 36 38 40 42 44 46 48 50]\n"
          ]
        }
      ]
    },
    {
      "cell_type": "markdown",
      "source": [
        "g) Создать матрицу 3х3 с числами от 0 до 8"
      ],
      "metadata": {
        "id": "NLOrOzRogH_C"
      }
    },
    {
      "cell_type": "code",
      "source": [
        "g=np.arange(9).reshape(3,3)\n",
        "print(g)"
      ],
      "metadata": {
        "colab": {
          "base_uri": "https://localhost:8080/"
        },
        "id": "HshFJbxygh2o",
        "outputId": "d863fe13-1121-4b9b-9f2a-1d30f952b16a"
      },
      "execution_count": 23,
      "outputs": [
        {
          "output_type": "stream",
          "name": "stdout",
          "text": [
            "[[0 1 2]\n",
            " [3 4 5]\n",
            " [6 7 8]]\n"
          ]
        }
      ]
    },
    {
      "cell_type": "markdown",
      "source": [
        "h) Создать еденичную матрицу 3х3"
      ],
      "metadata": {
        "id": "A63MXfFTlL3Y"
      }
    },
    {
      "cell_type": "code",
      "source": [
        "h=np.eye(3)\n",
        "print(h)"
      ],
      "metadata": {
        "colab": {
          "base_uri": "https://localhost:8080/"
        },
        "id": "L4OTOXdTlVKx",
        "outputId": "3a711b38-1f3f-4ba7-ef1f-c50ed315352a"
      },
      "execution_count": 3,
      "outputs": [
        {
          "output_type": "stream",
          "name": "stdout",
          "text": [
            "[[1. 0. 0.]\n",
            " [0. 1. 0.]\n",
            " [0. 0. 1.]]\n"
          ]
        }
      ]
    },
    {
      "cell_type": "markdown",
      "source": [
        "i) Использовать NumPy для генерации случайного числа от 0 до 1"
      ],
      "metadata": {
        "id": "rLegCJlflp4T"
      }
    },
    {
      "cell_type": "code",
      "source": [
        "i=np.random.rand()\n",
        "print(i)"
      ],
      "metadata": {
        "colab": {
          "base_uri": "https://localhost:8080/"
        },
        "id": "EUahBAJZmHCS",
        "outputId": "6a68f9bc-405b-4cd9-b559-36e317954fc4"
      },
      "execution_count": 24,
      "outputs": [
        {
          "output_type": "stream",
          "name": "stdout",
          "text": [
            "0.5184608309462643\n"
          ]
        }
      ]
    },
    {
      "cell_type": "markdown",
      "source": [
        "j) Использовать NumPy для генерации массива из 25 случайных чисел, \n",
        "взятого из стандартного нормального распределения"
      ],
      "metadata": {
        "id": "533M30iumzlk"
      }
    },
    {
      "cell_type": "code",
      "source": [
        "j=np.random.randn(25)\n",
        "print(j)"
      ],
      "metadata": {
        "colab": {
          "base_uri": "https://localhost:8080/"
        },
        "id": "p4YhLHDWnQFb",
        "outputId": "ab2ef9a2-48c9-4aea-b6e6-4b0f97f50e0e"
      },
      "execution_count": 25,
      "outputs": [
        {
          "output_type": "stream",
          "name": "stdout",
          "text": [
            "[-0.29381429  1.80493244  0.45119152 -1.76049413  0.1090889   0.26478234\n",
            " -1.52001209 -0.84563218  1.43511278 -0.47628998 -1.13730234  0.29125505\n",
            "  0.19793146 -0.2076495  -1.25021199 -0.41111333  0.07686298  0.85591182\n",
            "  0.6621761  -0.23617413  1.77309296  0.22426926  1.66952253  1.59761556\n",
            "  1.79298598]\n"
          ]
        }
      ]
    },
    {
      "cell_type": "markdown",
      "source": [
        "k) Создать матрицу используя функцию библиотеки NumPy"
      ],
      "metadata": {
        "id": "J6f6LHsUopke"
      }
    },
    {
      "cell_type": "code",
      "source": [
        "k=np.linspace(0.01, 1., 100).reshape(10, 10)\n",
        "print(k)"
      ],
      "metadata": {
        "colab": {
          "base_uri": "https://localhost:8080/"
        },
        "id": "7NoB4ni6pC-X",
        "outputId": "380f4c0e-f79d-457e-f69c-b32ad92331d0"
      },
      "execution_count": 26,
      "outputs": [
        {
          "output_type": "stream",
          "name": "stdout",
          "text": [
            "[[0.01 0.02 0.03 0.04 0.05 0.06 0.07 0.08 0.09 0.1 ]\n",
            " [0.11 0.12 0.13 0.14 0.15 0.16 0.17 0.18 0.19 0.2 ]\n",
            " [0.21 0.22 0.23 0.24 0.25 0.26 0.27 0.28 0.29 0.3 ]\n",
            " [0.31 0.32 0.33 0.34 0.35 0.36 0.37 0.38 0.39 0.4 ]\n",
            " [0.41 0.42 0.43 0.44 0.45 0.46 0.47 0.48 0.49 0.5 ]\n",
            " [0.51 0.52 0.53 0.54 0.55 0.56 0.57 0.58 0.59 0.6 ]\n",
            " [0.61 0.62 0.63 0.64 0.65 0.66 0.67 0.68 0.69 0.7 ]\n",
            " [0.71 0.72 0.73 0.74 0.75 0.76 0.77 0.78 0.79 0.8 ]\n",
            " [0.81 0.82 0.83 0.84 0.85 0.86 0.87 0.88 0.89 0.9 ]\n",
            " [0.91 0.92 0.93 0.94 0.95 0.96 0.97 0.98 0.99 1.  ]]\n"
          ]
        }
      ]
    },
    {
      "cell_type": "markdown",
      "source": [
        "Cтартовая матрица"
      ],
      "metadata": {
        "id": "k6dERSRxJXm4"
      }
    },
    {
      "cell_type": "code",
      "source": [
        "mat=np.arange(1, 26).reshape(5, 5)\n",
        "print(mat)"
      ],
      "metadata": {
        "colab": {
          "base_uri": "https://localhost:8080/"
        },
        "id": "7QBLsgzvv70_",
        "outputId": "52c22d29-c152-4968-85e6-b2351e07c1b5"
      },
      "execution_count": 4,
      "outputs": [
        {
          "output_type": "stream",
          "name": "stdout",
          "text": [
            "[[ 1  2  3  4  5]\n",
            " [ 6  7  8  9 10]\n",
            " [11 12 13 14 15]\n",
            " [16 17 18 19 20]\n",
            " [21 22 23 24 25]]\n"
          ]
        }
      ]
    },
    {
      "cell_type": "markdown",
      "source": [
        "l) Необходимо написать код который вернет следующую матрицу из стартовой"
      ],
      "metadata": {
        "id": "PsGxrP0JubtL"
      }
    },
    {
      "cell_type": "code",
      "source": [
        "l=mat[2:, 1:]\n",
        "print(l)"
      ],
      "metadata": {
        "colab": {
          "base_uri": "https://localhost:8080/"
        },
        "id": "b-1AwO7rJUEa",
        "outputId": "d5903de5-7346-4149-fa51-b7cf89156b9e"
      },
      "execution_count": 5,
      "outputs": [
        {
          "output_type": "stream",
          "name": "stdout",
          "text": [
            "[[12 13 14 15]\n",
            " [17 18 19 20]\n",
            " [22 23 24 25]]\n"
          ]
        }
      ]
    },
    {
      "cell_type": "markdown",
      "source": [
        "m) Написать код обращения к элементу который вернет значение  20 изстартовой матрицы."
      ],
      "metadata": {
        "id": "LNQ1KWn1J3hD"
      }
    },
    {
      "cell_type": "code",
      "source": [
        "m=mat[mat == 20]\n",
        "print(m)"
      ],
      "metadata": {
        "colab": {
          "base_uri": "https://localhost:8080/"
        },
        "id": "iiz4A6JyKFlV",
        "outputId": "cd3cb9ea-6ced-4bdf-8270-77db63754a12"
      },
      "execution_count": 6,
      "outputs": [
        {
          "output_type": "stream",
          "name": "stdout",
          "text": [
            "[20]\n"
          ]
        }
      ]
    },
    {
      "cell_type": "markdown",
      "source": [
        "n) Написать код к стартовой матрице, который воспроизводит вывод"
      ],
      "metadata": {
        "id": "Lvyy1JYAN3BS"
      }
    },
    {
      "cell_type": "code",
      "source": [
        "n=mat[:3, 1].reshape(3, 1)\n",
        "print(n)"
      ],
      "metadata": {
        "colab": {
          "base_uri": "https://localhost:8080/"
        },
        "id": "55kHlN2nQBZQ",
        "outputId": "729c3c67-3a7f-4b92-818e-3b6eedd6bd6a"
      },
      "execution_count": 7,
      "outputs": [
        {
          "output_type": "stream",
          "name": "stdout",
          "text": [
            "[[ 2]\n",
            " [ 7]\n",
            " [12]]\n"
          ]
        }
      ]
    },
    {
      "cell_type": "markdown",
      "source": [
        "o) Написать код к стартовой матрице, который воспроизводит вывод"
      ],
      "metadata": {
        "id": "WvOY9U1bTeot"
      }
    },
    {
      "cell_type": "code",
      "source": [
        "o=mat[4:]\n",
        "print(o)"
      ],
      "metadata": {
        "colab": {
          "base_uri": "https://localhost:8080/"
        },
        "id": "8GL1NYnpTuvr",
        "outputId": "a8964d34-47bd-4bdf-bd0e-b648e57bd1de"
      },
      "execution_count": 8,
      "outputs": [
        {
          "output_type": "stream",
          "name": "stdout",
          "text": [
            "[[21 22 23 24 25]]\n"
          ]
        }
      ]
    },
    {
      "cell_type": "markdown",
      "source": [
        "p) Написать код к стартовой матрице, который воспроизводит вывод"
      ],
      "metadata": {
        "id": "HSi0uEFaUM24"
      }
    },
    {
      "cell_type": "code",
      "source": [
        "p=mat[3:]\n",
        "print(p)"
      ],
      "metadata": {
        "colab": {
          "base_uri": "https://localhost:8080/"
        },
        "id": "U-PuH5nvUSja",
        "outputId": "10200d94-704f-4b48-83a3-8ef98379c7f6"
      },
      "execution_count": 9,
      "outputs": [
        {
          "output_type": "stream",
          "name": "stdout",
          "text": [
            "[[16 17 18 19 20]\n",
            " [21 22 23 24 25]]\n"
          ]
        }
      ]
    },
    {
      "cell_type": "markdown",
      "source": [
        "q) Получить сумму всех значений в стартовой матрице mat"
      ],
      "metadata": {
        "id": "U_xuhw1FUomy"
      }
    },
    {
      "cell_type": "code",
      "source": [
        "q=mat.sum()\n",
        "print(q)"
      ],
      "metadata": {
        "colab": {
          "base_uri": "https://localhost:8080/"
        },
        "id": "X9MhdtmMUssI",
        "outputId": "92bddcd9-f9f5-45de-a5f1-e7c1571a4288"
      },
      "execution_count": 10,
      "outputs": [
        {
          "output_type": "stream",
          "name": "stdout",
          "text": [
            "325\n"
          ]
        }
      ]
    },
    {
      "cell_type": "markdown",
      "source": [
        "r) Получить стандартное отклонение в стартовой матрице mat"
      ],
      "metadata": {
        "id": "ViusXcX4VI1J"
      }
    },
    {
      "cell_type": "code",
      "source": [
        "r=mat.std()\n",
        "print(r)"
      ],
      "metadata": {
        "colab": {
          "base_uri": "https://localhost:8080/"
        },
        "id": "qaFAAxamVMi6",
        "outputId": "361b4947-0c4f-4e00-db08-0199369c769e"
      },
      "execution_count": 11,
      "outputs": [
        {
          "output_type": "stream",
          "name": "stdout",
          "text": [
            "7.211102550927978\n"
          ]
        }
      ]
    },
    {
      "cell_type": "markdown",
      "source": [
        "s) Получить сумму значений в колонках в стартовой матрице mat"
      ],
      "metadata": {
        "id": "J71sGxKEVl3Q"
      }
    },
    {
      "cell_type": "code",
      "source": [
        "s=mat.sum(axis=0)\n",
        "print(s)"
      ],
      "metadata": {
        "colab": {
          "base_uri": "https://localhost:8080/"
        },
        "id": "Y8JEa9NGVo4l",
        "outputId": "4febcf67-2da9-4a09-ca69-07145282169b"
      },
      "execution_count": 17,
      "outputs": [
        {
          "output_type": "stream",
          "name": "stdout",
          "text": [
            "[55 60 65 70 75]\n"
          ]
        }
      ]
    }
  ]
}